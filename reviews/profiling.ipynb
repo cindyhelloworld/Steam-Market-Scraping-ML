{
 "cells": [
  {
   "cell_type": "code",
   "execution_count": 1,
   "metadata": {},
   "outputs": [],
   "source": [
    "import pandas as pd"
   ]
  },
  {
   "cell_type": "code",
   "execution_count": 2,
   "metadata": {},
   "outputs": [
    {
     "data": {
      "text/html": [
       "<div>\n",
       "<style scoped>\n",
       "    .dataframe tbody tr th:only-of-type {\n",
       "        vertical-align: middle;\n",
       "    }\n",
       "\n",
       "    .dataframe tbody tr th {\n",
       "        vertical-align: top;\n",
       "    }\n",
       "\n",
       "    .dataframe thead th {\n",
       "        text-align: right;\n",
       "    }\n",
       "</style>\n",
       "<table border=\"1\" class=\"dataframe\">\n",
       "  <thead>\n",
       "    <tr style=\"text-align: right;\">\n",
       "      <th></th>\n",
       "      <th>review_score</th>\n",
       "      <th>review_score_desc</th>\n",
       "      <th>total_positive</th>\n",
       "      <th>total_negative</th>\n",
       "      <th>total_reviews</th>\n",
       "    </tr>\n",
       "  </thead>\n",
       "  <tbody>\n",
       "    <tr>\n",
       "      <th>220</th>\n",
       "      <td>9</td>\n",
       "      <td>Overwhelmingly Positive</td>\n",
       "      <td>54855</td>\n",
       "      <td>1761</td>\n",
       "      <td>56616</td>\n",
       "    </tr>\n",
       "    <tr>\n",
       "      <th>240</th>\n",
       "      <td>9</td>\n",
       "      <td>Overwhelmingly Positive</td>\n",
       "      <td>65877</td>\n",
       "      <td>2798</td>\n",
       "      <td>68675</td>\n",
       "    </tr>\n",
       "    <tr>\n",
       "      <th>300</th>\n",
       "      <td>8</td>\n",
       "      <td>Very Positive</td>\n",
       "      <td>9014</td>\n",
       "      <td>937</td>\n",
       "      <td>9951</td>\n",
       "    </tr>\n",
       "    <tr>\n",
       "      <th>380</th>\n",
       "      <td>8</td>\n",
       "      <td>Very Positive</td>\n",
       "      <td>6168</td>\n",
       "      <td>352</td>\n",
       "      <td>6520</td>\n",
       "    </tr>\n",
       "    <tr>\n",
       "      <th>400</th>\n",
       "      <td>9</td>\n",
       "      <td>Overwhelmingly Positive</td>\n",
       "      <td>43124</td>\n",
       "      <td>794</td>\n",
       "      <td>43918</td>\n",
       "    </tr>\n",
       "  </tbody>\n",
       "</table>\n",
       "</div>"
      ],
      "text/plain": [
       "     review_score        review_score_desc  total_positive  total_negative  \\\n",
       "220             9  Overwhelmingly Positive           54855            1761   \n",
       "240             9  Overwhelmingly Positive           65877            2798   \n",
       "300             8            Very Positive            9014             937   \n",
       "380             8            Very Positive            6168             352   \n",
       "400             9  Overwhelmingly Positive           43124             794   \n",
       "\n",
       "     total_reviews  \n",
       "220          56616  \n",
       "240          68675  \n",
       "300           9951  \n",
       "380           6520  \n",
       "400          43918  "
      ]
     },
     "execution_count": 2,
     "metadata": {},
     "output_type": "execute_result"
    }
   ],
   "source": [
    "df = pd.read_json(\"./data/review_stats.json\", orient='index')\n",
    "df.head()"
   ]
  },
  {
   "cell_type": "code",
   "execution_count": 3,
   "metadata": {},
   "outputs": [
    {
     "name": "stdout",
     "output_type": "stream",
     "text": [
      "<class 'pandas.core.frame.DataFrame'>\n",
      "Int64Index: 13275 entries, 220 to 892880\n",
      "Data columns (total 5 columns):\n",
      " #   Column             Non-Null Count  Dtype \n",
      "---  ------             --------------  ----- \n",
      " 0   review_score       13275 non-null  int64 \n",
      " 1   review_score_desc  13275 non-null  object\n",
      " 2   total_positive     13275 non-null  int64 \n",
      " 3   total_negative     13275 non-null  int64 \n",
      " 4   total_reviews      13275 non-null  int64 \n",
      "dtypes: int64(4), object(1)\n",
      "memory usage: 622.3+ KB\n"
     ]
    }
   ],
   "source": [
    "df.info()"
   ]
  },
  {
   "cell_type": "code",
   "execution_count": 4,
   "metadata": {},
   "outputs": [
    {
     "data": {
      "text/plain": [
       "array(['Overwhelmingly Positive', 'Very Positive', 'No user reviews',\n",
       "       'Mostly Positive', 'Mixed', 'Negative', 'Mostly Negative',\n",
       "       '2 user reviews', 'Positive', '7 user reviews', '6 user reviews',\n",
       "       'Overwhelmingly Negative', '4 user reviews', 'Very Negative',\n",
       "       '5 user reviews', '9 user reviews', '8 user reviews',\n",
       "       '3 user reviews', '1 user reviews'], dtype=object)"
      ]
     },
     "execution_count": 4,
     "metadata": {},
     "output_type": "execute_result"
    }
   ],
   "source": [
    "df.review_score_desc.unique()"
   ]
  },
  {
   "cell_type": "code",
   "execution_count": 5,
   "metadata": {},
   "outputs": [
    {
     "data": {
      "text/html": [
       "<div>\n",
       "<style scoped>\n",
       "    .dataframe tbody tr th:only-of-type {\n",
       "        vertical-align: middle;\n",
       "    }\n",
       "\n",
       "    .dataframe tbody tr th {\n",
       "        vertical-align: top;\n",
       "    }\n",
       "\n",
       "    .dataframe thead th {\n",
       "        text-align: right;\n",
       "    }\n",
       "</style>\n",
       "<table border=\"1\" class=\"dataframe\">\n",
       "  <thead>\n",
       "    <tr style=\"text-align: right;\">\n",
       "      <th></th>\n",
       "      <th>review_score</th>\n",
       "      <th>review_score_desc</th>\n",
       "      <th>total_positive</th>\n",
       "      <th>total_negative</th>\n",
       "      <th>total_reviews</th>\n",
       "    </tr>\n",
       "    <tr>\n",
       "      <th>app_id</th>\n",
       "      <th></th>\n",
       "      <th></th>\n",
       "      <th></th>\n",
       "      <th></th>\n",
       "      <th></th>\n",
       "    </tr>\n",
       "  </thead>\n",
       "  <tbody>\n",
       "    <tr>\n",
       "      <th>220</th>\n",
       "      <td>9</td>\n",
       "      <td>Overwhelmingly Positive</td>\n",
       "      <td>54855</td>\n",
       "      <td>1761</td>\n",
       "      <td>56616</td>\n",
       "    </tr>\n",
       "    <tr>\n",
       "      <th>240</th>\n",
       "      <td>9</td>\n",
       "      <td>Overwhelmingly Positive</td>\n",
       "      <td>65877</td>\n",
       "      <td>2798</td>\n",
       "      <td>68675</td>\n",
       "    </tr>\n",
       "    <tr>\n",
       "      <th>300</th>\n",
       "      <td>8</td>\n",
       "      <td>Very Positive</td>\n",
       "      <td>9014</td>\n",
       "      <td>937</td>\n",
       "      <td>9951</td>\n",
       "    </tr>\n",
       "    <tr>\n",
       "      <th>380</th>\n",
       "      <td>8</td>\n",
       "      <td>Very Positive</td>\n",
       "      <td>6168</td>\n",
       "      <td>352</td>\n",
       "      <td>6520</td>\n",
       "    </tr>\n",
       "    <tr>\n",
       "      <th>400</th>\n",
       "      <td>9</td>\n",
       "      <td>Overwhelmingly Positive</td>\n",
       "      <td>43124</td>\n",
       "      <td>794</td>\n",
       "      <td>43918</td>\n",
       "    </tr>\n",
       "  </tbody>\n",
       "</table>\n",
       "</div>"
      ],
      "text/plain": [
       "        review_score        review_score_desc  total_positive  total_negative  \\\n",
       "app_id                                                                          \n",
       "220                9  Overwhelmingly Positive           54855            1761   \n",
       "240                9  Overwhelmingly Positive           65877            2798   \n",
       "300                8            Very Positive            9014             937   \n",
       "380                8            Very Positive            6168             352   \n",
       "400                9  Overwhelmingly Positive           43124             794   \n",
       "\n",
       "        total_reviews  \n",
       "app_id                 \n",
       "220             56616  \n",
       "240             68675  \n",
       "300              9951  \n",
       "380              6520  \n",
       "400             43918  "
      ]
     },
     "execution_count": 5,
     "metadata": {},
     "output_type": "execute_result"
    }
   ],
   "source": [
    "df.index.name = \"app_id\"\n",
    "df.head()"
   ]
  },
  {
   "cell_type": "code",
   "execution_count": 7,
   "metadata": {},
   "outputs": [],
   "source": [
    "df.to_csv(\"./data/reviews_2018_all.csv\")"
   ]
  },
  {
   "cell_type": "code",
   "execution_count": null,
   "metadata": {},
   "outputs": [],
   "source": []
  }
 ],
 "metadata": {
  "kernelspec": {
   "display_name": "Python 3.8.13 ('steam')",
   "language": "python",
   "name": "python3"
  },
  "language_info": {
   "codemirror_mode": {
    "name": "ipython",
    "version": 3
   },
   "file_extension": ".py",
   "mimetype": "text/x-python",
   "name": "python",
   "nbconvert_exporter": "python",
   "pygments_lexer": "ipython3",
   "version": "3.8.13"
  },
  "orig_nbformat": 4,
  "vscode": {
   "interpreter": {
    "hash": "458dc80a6ad14cef196de2775b7390cc1d8564fbf55b15b1a029da866268c4a0"
   }
  }
 },
 "nbformat": 4,
 "nbformat_minor": 2
}
