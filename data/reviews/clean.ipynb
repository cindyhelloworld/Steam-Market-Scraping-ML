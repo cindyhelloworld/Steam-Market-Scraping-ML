{
 "cells": [
  {
   "cell_type": "markdown",
   "metadata": {},
   "source": [
    "### Clean"
   ]
  },
  {
   "cell_type": "code",
   "execution_count": 1,
   "metadata": {},
   "outputs": [],
   "source": [
    "import pandas as pd"
   ]
  },
  {
   "cell_type": "code",
   "execution_count": 6,
   "metadata": {},
   "outputs": [
    {
     "name": "stdout",
     "output_type": "stream",
     "text": [
      "<class 'pandas.core.frame.DataFrame'>\n",
      "RangeIndex: 13281 entries, 0 to 13280\n",
      "Data columns (total 3 columns):\n",
      " #   Column              Non-Null Count  Dtype  \n",
      "---  ------              --------------  -----  \n",
      " 0   Title               13278 non-null  object \n",
      " 1    Players Estimate   13281 non-null  object \n",
      " 2   Steam App ID        13263 non-null  float64\n",
      "dtypes: float64(1), object(2)\n",
      "memory usage: 311.4+ KB\n"
     ]
    }
   ],
   "source": [
    "leak = pd.read_csv(\"../leak/games_achievements_players_2018-07-01.csv\", encoding = \"ISO-8859-1\")\n",
    "leak.info()"
   ]
  },
  {
   "cell_type": "code",
   "execution_count": 7,
   "metadata": {},
   "outputs": [
    {
     "name": "stdout",
     "output_type": "stream",
     "text": [
      "<class 'pandas.core.frame.DataFrame'>\n",
      "Int64Index: 13260 entries, 0 to 13280\n",
      "Data columns (total 3 columns):\n",
      " #   Column              Non-Null Count  Dtype  \n",
      "---  ------              --------------  -----  \n",
      " 0   Title               13260 non-null  object \n",
      " 1    Players Estimate   13260 non-null  object \n",
      " 2   Steam App ID        13260 non-null  float64\n",
      "dtypes: float64(1), object(2)\n",
      "memory usage: 414.4+ KB\n"
     ]
    }
   ],
   "source": [
    "leak.dropna(inplace=True)\n",
    "leak.info()"
   ]
  },
  {
   "cell_type": "code",
   "execution_count": 8,
   "metadata": {},
   "outputs": [
    {
     "data": {
      "text/html": [
       "<div>\n",
       "<style scoped>\n",
       "    .dataframe tbody tr th:only-of-type {\n",
       "        vertical-align: middle;\n",
       "    }\n",
       "\n",
       "    .dataframe tbody tr th {\n",
       "        vertical-align: top;\n",
       "    }\n",
       "\n",
       "    .dataframe thead th {\n",
       "        text-align: right;\n",
       "    }\n",
       "</style>\n",
       "<table border=\"1\" class=\"dataframe\">\n",
       "  <thead>\n",
       "    <tr style=\"text-align: right;\">\n",
       "      <th></th>\n",
       "      <th>Title</th>\n",
       "      <th>Players Estimate</th>\n",
       "      <th>Steam App ID</th>\n",
       "    </tr>\n",
       "  </thead>\n",
       "  <tbody>\n",
       "    <tr>\n",
       "      <th>8003</th>\n",
       "      <td>Lozenge</td>\n",
       "      <td>1,876</td>\n",
       "      <td>775720.0</td>\n",
       "    </tr>\n",
       "    <tr>\n",
       "      <th>1570</th>\n",
       "      <td>Go! Go! Nippon! ~My First Trip to Japan~</td>\n",
       "      <td>131,504</td>\n",
       "      <td>251870.0</td>\n",
       "    </tr>\n",
       "    <tr>\n",
       "      <th>9245</th>\n",
       "      <td>Barbarian Brawl</td>\n",
       "      <td>852</td>\n",
       "      <td>332730.0</td>\n",
       "    </tr>\n",
       "    <tr>\n",
       "      <th>12347</th>\n",
       "      <td>Jida Chronicle Chaos frontier VR</td>\n",
       "      <td>73</td>\n",
       "      <td>753960.0</td>\n",
       "    </tr>\n",
       "    <tr>\n",
       "      <th>2771</th>\n",
       "      <td>Project Genom</td>\n",
       "      <td>45,174</td>\n",
       "      <td>389040.0</td>\n",
       "    </tr>\n",
       "    <tr>\n",
       "      <th>13038</th>\n",
       "      <td>Kitty Run</td>\n",
       "      <td>24</td>\n",
       "      <td>873620.0</td>\n",
       "    </tr>\n",
       "    <tr>\n",
       "      <th>12720</th>\n",
       "      <td>star of lemutia</td>\n",
       "      <td>38</td>\n",
       "      <td>740560.0</td>\n",
       "    </tr>\n",
       "    <tr>\n",
       "      <th>6159</th>\n",
       "      <td>Dragon's Lair 2: Time Warp</td>\n",
       "      <td>5,436</td>\n",
       "      <td>240360.0</td>\n",
       "    </tr>\n",
       "    <tr>\n",
       "      <th>5131</th>\n",
       "      <td>Empires Apart</td>\n",
       "      <td>9,535</td>\n",
       "      <td>530630.0</td>\n",
       "    </tr>\n",
       "    <tr>\n",
       "      <th>7701</th>\n",
       "      <td>Let`s not stay friends</td>\n",
       "      <td>2,257</td>\n",
       "      <td>739980.0</td>\n",
       "    </tr>\n",
       "  </tbody>\n",
       "</table>\n",
       "</div>"
      ],
      "text/plain": [
       "                                          Title  Players Estimate   \\\n",
       "8003                                    Lozenge              1,876   \n",
       "1570   Go! Go! Nippon! ~My First Trip to Japan~            131,504   \n",
       "9245                            Barbarian Brawl                852   \n",
       "12347          Jida Chronicle Chaos frontier VR                 73   \n",
       "2771                              Project Genom             45,174   \n",
       "13038                                 Kitty Run                 24   \n",
       "12720                           star of lemutia                 38   \n",
       "6159                 Dragon's Lair 2: Time Warp              5,436   \n",
       "5131                              Empires Apart              9,535   \n",
       "7701                     Let`s not stay friends              2,257   \n",
       "\n",
       "       Steam App ID  \n",
       "8003       775720.0  \n",
       "1570       251870.0  \n",
       "9245       332730.0  \n",
       "12347      753960.0  \n",
       "2771       389040.0  \n",
       "13038      873620.0  \n",
       "12720      740560.0  \n",
       "6159       240360.0  \n",
       "5131       530630.0  \n",
       "7701       739980.0  "
      ]
     },
     "execution_count": 8,
     "metadata": {},
     "output_type": "execute_result"
    }
   ],
   "source": [
    "leak.sample(10)"
   ]
  },
  {
   "cell_type": "code",
   "execution_count": 9,
   "metadata": {},
   "outputs": [],
   "source": [
    "leak.to_csv(\"clean_leak.csv\", encoding=\"utf-8\", index=False)"
   ]
  },
  {
   "cell_type": "markdown",
   "metadata": {},
   "source": [
    "### Steam App ID by Players Estimate desc"
   ]
  },
  {
   "cell_type": "code",
   "execution_count": 2,
   "metadata": {},
   "outputs": [
    {
     "data": {
      "text/html": [
       "<div>\n",
       "<style scoped>\n",
       "    .dataframe tbody tr th:only-of-type {\n",
       "        vertical-align: middle;\n",
       "    }\n",
       "\n",
       "    .dataframe tbody tr th {\n",
       "        vertical-align: top;\n",
       "    }\n",
       "\n",
       "    .dataframe thead th {\n",
       "        text-align: right;\n",
       "    }\n",
       "</style>\n",
       "<table border=\"1\" class=\"dataframe\">\n",
       "  <thead>\n",
       "    <tr style=\"text-align: right;\">\n",
       "      <th></th>\n",
       "      <th>Title</th>\n",
       "      <th>Players Estimate</th>\n",
       "      <th>Steam App ID</th>\n",
       "    </tr>\n",
       "  </thead>\n",
       "  <tbody>\n",
       "    <tr>\n",
       "      <th>0</th>\n",
       "      <td>Team Fortress 2</td>\n",
       "      <td>50,191,347</td>\n",
       "      <td>440.0</td>\n",
       "    </tr>\n",
       "    <tr>\n",
       "      <th>1</th>\n",
       "      <td>Counter-Strike: Global Offensive</td>\n",
       "      <td>46,305,966</td>\n",
       "      <td>730.0</td>\n",
       "    </tr>\n",
       "    <tr>\n",
       "      <th>2</th>\n",
       "      <td>PLAYERUNKNOWN'S BATTLEGROUNDS</td>\n",
       "      <td>36,604,134</td>\n",
       "      <td>578080.0</td>\n",
       "    </tr>\n",
       "    <tr>\n",
       "      <th>3</th>\n",
       "      <td>Unturned</td>\n",
       "      <td>27,381,399</td>\n",
       "      <td>304930.0</td>\n",
       "    </tr>\n",
       "    <tr>\n",
       "      <th>4</th>\n",
       "      <td>Left 4 Dead 2</td>\n",
       "      <td>23,143,723</td>\n",
       "      <td>550.0</td>\n",
       "    </tr>\n",
       "  </tbody>\n",
       "</table>\n",
       "</div>"
      ],
      "text/plain": [
       "                              Title  Players Estimate   Steam App ID\n",
       "0                   Team Fortress 2         50,191,347         440.0\n",
       "1  Counter-Strike: Global Offensive         46,305,966         730.0\n",
       "2     PLAYERUNKNOWN'S BATTLEGROUNDS         36,604,134      578080.0\n",
       "3                          Unturned         27,381,399      304930.0\n",
       "4                     Left 4 Dead 2         23,143,723         550.0"
      ]
     },
     "execution_count": 2,
     "metadata": {},
     "output_type": "execute_result"
    }
   ],
   "source": [
    "leak = pd.read_csv(\"./clean_leak.csv\")\n",
    "leak.head()"
   ]
  },
  {
   "cell_type": "code",
   "execution_count": 6,
   "metadata": {},
   "outputs": [
    {
     "data": {
      "text/plain": [
       "Index(['Title', 'Players Estimate', 'Steam App ID'], dtype='object')"
      ]
     },
     "execution_count": 6,
     "metadata": {},
     "output_type": "execute_result"
    }
   ],
   "source": [
    "leak.columns = leak.columns.str.strip()\n",
    "leak.columns"
   ]
  },
  {
   "cell_type": "code",
   "execution_count": 15,
   "metadata": {},
   "outputs": [],
   "source": [
    "leak[\"Players Estimate\"] = pd.to_numeric(leak[\"Players Estimate\"].replace({\",\": ''}, regex=True), errors='coerce')"
   ]
  },
  {
   "cell_type": "code",
   "execution_count": 16,
   "metadata": {},
   "outputs": [
    {
     "name": "stdout",
     "output_type": "stream",
     "text": [
      "<class 'pandas.core.frame.DataFrame'>\n",
      "RangeIndex: 13260 entries, 0 to 13259\n",
      "Data columns (total 3 columns):\n",
      " #   Column            Non-Null Count  Dtype  \n",
      "---  ------            --------------  -----  \n",
      " 0   Title             13260 non-null  object \n",
      " 1   Players Estimate  13228 non-null  float64\n",
      " 2   Steam App ID      13260 non-null  float64\n",
      "dtypes: float64(2), object(1)\n",
      "memory usage: 310.9+ KB\n"
     ]
    }
   ],
   "source": [
    "leak.info()"
   ]
  },
  {
   "cell_type": "code",
   "execution_count": 17,
   "metadata": {},
   "outputs": [],
   "source": [
    "leak.dropna(inplace=True)"
   ]
  },
  {
   "cell_type": "code",
   "execution_count": 18,
   "metadata": {},
   "outputs": [
    {
     "name": "stdout",
     "output_type": "stream",
     "text": [
      "<class 'pandas.core.frame.DataFrame'>\n",
      "Int64Index: 13228 entries, 0 to 13259\n",
      "Data columns (total 3 columns):\n",
      " #   Column            Non-Null Count  Dtype  \n",
      "---  ------            --------------  -----  \n",
      " 0   Title             13228 non-null  object \n",
      " 1   Players Estimate  13228 non-null  float64\n",
      " 2   Steam App ID      13228 non-null  float64\n",
      "dtypes: float64(2), object(1)\n",
      "memory usage: 413.4+ KB\n"
     ]
    }
   ],
   "source": [
    "leak.info()"
   ]
  },
  {
   "cell_type": "code",
   "execution_count": 19,
   "metadata": {},
   "outputs": [
    {
     "data": {
      "text/html": [
       "<div>\n",
       "<style scoped>\n",
       "    .dataframe tbody tr th:only-of-type {\n",
       "        vertical-align: middle;\n",
       "    }\n",
       "\n",
       "    .dataframe tbody tr th {\n",
       "        vertical-align: top;\n",
       "    }\n",
       "\n",
       "    .dataframe thead th {\n",
       "        text-align: right;\n",
       "    }\n",
       "</style>\n",
       "<table border=\"1\" class=\"dataframe\">\n",
       "  <thead>\n",
       "    <tr style=\"text-align: right;\">\n",
       "      <th></th>\n",
       "      <th>Title</th>\n",
       "      <th>Players Estimate</th>\n",
       "      <th>Steam App ID</th>\n",
       "    </tr>\n",
       "  </thead>\n",
       "  <tbody>\n",
       "    <tr>\n",
       "      <th>0</th>\n",
       "      <td>Team Fortress 2</td>\n",
       "      <td>50191347.0</td>\n",
       "      <td>440.0</td>\n",
       "    </tr>\n",
       "    <tr>\n",
       "      <th>1</th>\n",
       "      <td>Counter-Strike: Global Offensive</td>\n",
       "      <td>46305966.0</td>\n",
       "      <td>730.0</td>\n",
       "    </tr>\n",
       "    <tr>\n",
       "      <th>2</th>\n",
       "      <td>PLAYERUNKNOWN'S BATTLEGROUNDS</td>\n",
       "      <td>36604134.0</td>\n",
       "      <td>578080.0</td>\n",
       "    </tr>\n",
       "    <tr>\n",
       "      <th>3</th>\n",
       "      <td>Unturned</td>\n",
       "      <td>27381399.0</td>\n",
       "      <td>304930.0</td>\n",
       "    </tr>\n",
       "    <tr>\n",
       "      <th>4</th>\n",
       "      <td>Left 4 Dead 2</td>\n",
       "      <td>23143723.0</td>\n",
       "      <td>550.0</td>\n",
       "    </tr>\n",
       "  </tbody>\n",
       "</table>\n",
       "</div>"
      ],
      "text/plain": [
       "                              Title  Players Estimate  Steam App ID\n",
       "0                   Team Fortress 2        50191347.0         440.0\n",
       "1  Counter-Strike: Global Offensive        46305966.0         730.0\n",
       "2     PLAYERUNKNOWN'S BATTLEGROUNDS        36604134.0      578080.0\n",
       "3                          Unturned        27381399.0      304930.0\n",
       "4                     Left 4 Dead 2        23143723.0         550.0"
      ]
     },
     "execution_count": 19,
     "metadata": {},
     "output_type": "execute_result"
    }
   ],
   "source": [
    "leak.head()"
   ]
  },
  {
   "cell_type": "code",
   "execution_count": 21,
   "metadata": {},
   "outputs": [],
   "source": [
    "leak.sort_values(by=\"Players Estimate\", ascending=False, ignore_index=True, inplace=True)"
   ]
  },
  {
   "cell_type": "code",
   "execution_count": 22,
   "metadata": {},
   "outputs": [
    {
     "data": {
      "text/html": [
       "<div>\n",
       "<style scoped>\n",
       "    .dataframe tbody tr th:only-of-type {\n",
       "        vertical-align: middle;\n",
       "    }\n",
       "\n",
       "    .dataframe tbody tr th {\n",
       "        vertical-align: top;\n",
       "    }\n",
       "\n",
       "    .dataframe thead th {\n",
       "        text-align: right;\n",
       "    }\n",
       "</style>\n",
       "<table border=\"1\" class=\"dataframe\">\n",
       "  <thead>\n",
       "    <tr style=\"text-align: right;\">\n",
       "      <th></th>\n",
       "      <th>Title</th>\n",
       "      <th>Players Estimate</th>\n",
       "      <th>Steam App ID</th>\n",
       "    </tr>\n",
       "  </thead>\n",
       "  <tbody>\n",
       "    <tr>\n",
       "      <th>0</th>\n",
       "      <td>Team Fortress 2</td>\n",
       "      <td>50191347.0</td>\n",
       "      <td>440.0</td>\n",
       "    </tr>\n",
       "    <tr>\n",
       "      <th>1</th>\n",
       "      <td>Counter-Strike: Global Offensive</td>\n",
       "      <td>46305966.0</td>\n",
       "      <td>730.0</td>\n",
       "    </tr>\n",
       "    <tr>\n",
       "      <th>2</th>\n",
       "      <td>PLAYERUNKNOWN'S BATTLEGROUNDS</td>\n",
       "      <td>36604134.0</td>\n",
       "      <td>578080.0</td>\n",
       "    </tr>\n",
       "    <tr>\n",
       "      <th>3</th>\n",
       "      <td>Unturned</td>\n",
       "      <td>27381399.0</td>\n",
       "      <td>304930.0</td>\n",
       "    </tr>\n",
       "    <tr>\n",
       "      <th>4</th>\n",
       "      <td>Left 4 Dead 2</td>\n",
       "      <td>23143723.0</td>\n",
       "      <td>550.0</td>\n",
       "    </tr>\n",
       "    <tr>\n",
       "      <th>...</th>\n",
       "      <td>...</td>\n",
       "      <td>...</td>\n",
       "      <td>...</td>\n",
       "    </tr>\n",
       "    <tr>\n",
       "      <th>13223</th>\n",
       "      <td>¾Üø¾¥Ô_¤_Ó_? Falsemen 3</td>\n",
       "      <td>4.0</td>\n",
       "      <td>643930.0</td>\n",
       "    </tr>\n",
       "    <tr>\n",
       "      <th>13224</th>\n",
       "      <td>±±«_</td>\n",
       "      <td>3.0</td>\n",
       "      <td>591020.0</td>\n",
       "    </tr>\n",
       "    <tr>\n",
       "      <th>13225</th>\n",
       "      <td>HellSign</td>\n",
       "      <td>3.0</td>\n",
       "      <td>606500.0</td>\n",
       "    </tr>\n",
       "    <tr>\n",
       "      <th>13226</th>\n",
       "      <td>Possession</td>\n",
       "      <td>3.0</td>\n",
       "      <td>629340.0</td>\n",
       "    </tr>\n",
       "    <tr>\n",
       "      <th>13227</th>\n",
       "      <td>Disco Elysium</td>\n",
       "      <td>3.0</td>\n",
       "      <td>632470.0</td>\n",
       "    </tr>\n",
       "  </tbody>\n",
       "</table>\n",
       "<p>13228 rows × 3 columns</p>\n",
       "</div>"
      ],
      "text/plain": [
       "                                  Title  Players Estimate  Steam App ID\n",
       "0                       Team Fortress 2        50191347.0         440.0\n",
       "1      Counter-Strike: Global Offensive        46305966.0         730.0\n",
       "2         PLAYERUNKNOWN'S BATTLEGROUNDS        36604134.0      578080.0\n",
       "3                              Unturned        27381399.0      304930.0\n",
       "4                         Left 4 Dead 2        23143723.0         550.0\n",
       "...                                 ...               ...           ...\n",
       "13223        ¾Üø¾¥Ô_¤_Ó_? Falsemen 3               4.0      643930.0\n",
       "13224                            ±±«_               3.0      591020.0\n",
       "13225                          HellSign               3.0      606500.0\n",
       "13226                        Possession               3.0      629340.0\n",
       "13227                     Disco Elysium               3.0      632470.0\n",
       "\n",
       "[13228 rows x 3 columns]"
      ]
     },
     "execution_count": 22,
     "metadata": {},
     "output_type": "execute_result"
    }
   ],
   "source": [
    "leak"
   ]
  },
  {
   "cell_type": "code",
   "execution_count": 23,
   "metadata": {},
   "outputs": [],
   "source": [
    "leak.to_csv(\"./clean_leak.csv\", index=False, encoding=\"utf-8\")"
   ]
  },
  {
   "cell_type": "markdown",
   "metadata": {},
   "source": [
    "### Strip whitespace"
   ]
  },
  {
   "cell_type": "code",
   "execution_count": 24,
   "metadata": {},
   "outputs": [
    {
     "data": {
      "text/html": [
       "<div>\n",
       "<style scoped>\n",
       "    .dataframe tbody tr th:only-of-type {\n",
       "        vertical-align: middle;\n",
       "    }\n",
       "\n",
       "    .dataframe tbody tr th {\n",
       "        vertical-align: top;\n",
       "    }\n",
       "\n",
       "    .dataframe thead th {\n",
       "        text-align: right;\n",
       "    }\n",
       "</style>\n",
       "<table border=\"1\" class=\"dataframe\">\n",
       "  <thead>\n",
       "    <tr style=\"text-align: right;\">\n",
       "      <th></th>\n",
       "      <th>Title</th>\n",
       "      <th>Players Estimate</th>\n",
       "      <th>Steam App ID</th>\n",
       "    </tr>\n",
       "  </thead>\n",
       "  <tbody>\n",
       "    <tr>\n",
       "      <th>0</th>\n",
       "      <td>Team Fortress 2</td>\n",
       "      <td>50191347.0</td>\n",
       "      <td>440.0</td>\n",
       "    </tr>\n",
       "    <tr>\n",
       "      <th>1</th>\n",
       "      <td>Counter-Strike: Global Offensive</td>\n",
       "      <td>46305966.0</td>\n",
       "      <td>730.0</td>\n",
       "    </tr>\n",
       "    <tr>\n",
       "      <th>2</th>\n",
       "      <td>PLAYERUNKNOWN'S BATTLEGROUNDS</td>\n",
       "      <td>36604134.0</td>\n",
       "      <td>578080.0</td>\n",
       "    </tr>\n",
       "    <tr>\n",
       "      <th>3</th>\n",
       "      <td>Unturned</td>\n",
       "      <td>27381399.0</td>\n",
       "      <td>304930.0</td>\n",
       "    </tr>\n",
       "    <tr>\n",
       "      <th>4</th>\n",
       "      <td>Left 4 Dead 2</td>\n",
       "      <td>23143723.0</td>\n",
       "      <td>550.0</td>\n",
       "    </tr>\n",
       "  </tbody>\n",
       "</table>\n",
       "</div>"
      ],
      "text/plain": [
       "                              Title  Players Estimate  Steam App ID\n",
       "0                   Team Fortress 2        50191347.0         440.0\n",
       "1  Counter-Strike: Global Offensive        46305966.0         730.0\n",
       "2     PLAYERUNKNOWN'S BATTLEGROUNDS        36604134.0      578080.0\n",
       "3                          Unturned        27381399.0      304930.0\n",
       "4                     Left 4 Dead 2        23143723.0         550.0"
      ]
     },
     "execution_count": 24,
     "metadata": {},
     "output_type": "execute_result"
    }
   ],
   "source": [
    "leak = pd.read_csv(\"./clean_leak.csv\")\n",
    "leak.head()"
   ]
  },
  {
   "cell_type": "code",
   "execution_count": 25,
   "metadata": {},
   "outputs": [
    {
     "data": {
      "text/plain": [
       "Index(['Title', 'Players Estimate', 'Steam App ID'], dtype='object')"
      ]
     },
     "execution_count": 25,
     "metadata": {},
     "output_type": "execute_result"
    }
   ],
   "source": [
    "leak.columns"
   ]
  },
  {
   "cell_type": "code",
   "execution_count": 27,
   "metadata": {},
   "outputs": [],
   "source": [
    "leak[\"Title\"] = leak[\"Title\"].str.strip()"
   ]
  },
  {
   "cell_type": "code",
   "execution_count": 28,
   "metadata": {},
   "outputs": [],
   "source": [
    "leak.to_csv(\"./clean_leak.csv\", index=False, encoding=\"utf-8\")"
   ]
  },
  {
   "cell_type": "markdown",
   "metadata": {},
   "source": [
    "### Float to Int"
   ]
  },
  {
   "cell_type": "code",
   "execution_count": 29,
   "metadata": {},
   "outputs": [
    {
     "data": {
      "text/html": [
       "<div>\n",
       "<style scoped>\n",
       "    .dataframe tbody tr th:only-of-type {\n",
       "        vertical-align: middle;\n",
       "    }\n",
       "\n",
       "    .dataframe tbody tr th {\n",
       "        vertical-align: top;\n",
       "    }\n",
       "\n",
       "    .dataframe thead th {\n",
       "        text-align: right;\n",
       "    }\n",
       "</style>\n",
       "<table border=\"1\" class=\"dataframe\">\n",
       "  <thead>\n",
       "    <tr style=\"text-align: right;\">\n",
       "      <th></th>\n",
       "      <th>Title</th>\n",
       "      <th>Players Estimate</th>\n",
       "      <th>Steam App ID</th>\n",
       "    </tr>\n",
       "  </thead>\n",
       "  <tbody>\n",
       "    <tr>\n",
       "      <th>0</th>\n",
       "      <td>Team Fortress 2</td>\n",
       "      <td>50191347.0</td>\n",
       "      <td>440.0</td>\n",
       "    </tr>\n",
       "    <tr>\n",
       "      <th>1</th>\n",
       "      <td>Counter-Strike: Global Offensive</td>\n",
       "      <td>46305966.0</td>\n",
       "      <td>730.0</td>\n",
       "    </tr>\n",
       "    <tr>\n",
       "      <th>2</th>\n",
       "      <td>PLAYERUNKNOWN'S BATTLEGROUNDS</td>\n",
       "      <td>36604134.0</td>\n",
       "      <td>578080.0</td>\n",
       "    </tr>\n",
       "    <tr>\n",
       "      <th>3</th>\n",
       "      <td>Unturned</td>\n",
       "      <td>27381399.0</td>\n",
       "      <td>304930.0</td>\n",
       "    </tr>\n",
       "    <tr>\n",
       "      <th>4</th>\n",
       "      <td>Left 4 Dead 2</td>\n",
       "      <td>23143723.0</td>\n",
       "      <td>550.0</td>\n",
       "    </tr>\n",
       "  </tbody>\n",
       "</table>\n",
       "</div>"
      ],
      "text/plain": [
       "                              Title  Players Estimate  Steam App ID\n",
       "0                   Team Fortress 2        50191347.0         440.0\n",
       "1  Counter-Strike: Global Offensive        46305966.0         730.0\n",
       "2     PLAYERUNKNOWN'S BATTLEGROUNDS        36604134.0      578080.0\n",
       "3                          Unturned        27381399.0      304930.0\n",
       "4                     Left 4 Dead 2        23143723.0         550.0"
      ]
     },
     "execution_count": 29,
     "metadata": {},
     "output_type": "execute_result"
    }
   ],
   "source": [
    "leak = pd.read_csv(\"./clean_leak.csv\")\n",
    "leak.head()"
   ]
  },
  {
   "cell_type": "code",
   "execution_count": 32,
   "metadata": {},
   "outputs": [],
   "source": [
    "leak[[\"Players Estimate\", \"Steam App ID\"]] = leak[[\"Players Estimate\", \"Steam App ID\"]].astype('Int64')"
   ]
  },
  {
   "cell_type": "code",
   "execution_count": 33,
   "metadata": {},
   "outputs": [
    {
     "data": {
      "text/html": [
       "<div>\n",
       "<style scoped>\n",
       "    .dataframe tbody tr th:only-of-type {\n",
       "        vertical-align: middle;\n",
       "    }\n",
       "\n",
       "    .dataframe tbody tr th {\n",
       "        vertical-align: top;\n",
       "    }\n",
       "\n",
       "    .dataframe thead th {\n",
       "        text-align: right;\n",
       "    }\n",
       "</style>\n",
       "<table border=\"1\" class=\"dataframe\">\n",
       "  <thead>\n",
       "    <tr style=\"text-align: right;\">\n",
       "      <th></th>\n",
       "      <th>Title</th>\n",
       "      <th>Players Estimate</th>\n",
       "      <th>Steam App ID</th>\n",
       "    </tr>\n",
       "  </thead>\n",
       "  <tbody>\n",
       "    <tr>\n",
       "      <th>0</th>\n",
       "      <td>Team Fortress 2</td>\n",
       "      <td>50191347</td>\n",
       "      <td>440</td>\n",
       "    </tr>\n",
       "    <tr>\n",
       "      <th>1</th>\n",
       "      <td>Counter-Strike: Global Offensive</td>\n",
       "      <td>46305966</td>\n",
       "      <td>730</td>\n",
       "    </tr>\n",
       "    <tr>\n",
       "      <th>2</th>\n",
       "      <td>PLAYERUNKNOWN'S BATTLEGROUNDS</td>\n",
       "      <td>36604134</td>\n",
       "      <td>578080</td>\n",
       "    </tr>\n",
       "    <tr>\n",
       "      <th>3</th>\n",
       "      <td>Unturned</td>\n",
       "      <td>27381399</td>\n",
       "      <td>304930</td>\n",
       "    </tr>\n",
       "    <tr>\n",
       "      <th>4</th>\n",
       "      <td>Left 4 Dead 2</td>\n",
       "      <td>23143723</td>\n",
       "      <td>550</td>\n",
       "    </tr>\n",
       "    <tr>\n",
       "      <th>...</th>\n",
       "      <td>...</td>\n",
       "      <td>...</td>\n",
       "      <td>...</td>\n",
       "    </tr>\n",
       "    <tr>\n",
       "      <th>13223</th>\n",
       "      <td>¾Üø¾¥Ô_¤_Ó_? Falsemen 3</td>\n",
       "      <td>4</td>\n",
       "      <td>643930</td>\n",
       "    </tr>\n",
       "    <tr>\n",
       "      <th>13224</th>\n",
       "      <td>±±«_</td>\n",
       "      <td>3</td>\n",
       "      <td>591020</td>\n",
       "    </tr>\n",
       "    <tr>\n",
       "      <th>13225</th>\n",
       "      <td>HellSign</td>\n",
       "      <td>3</td>\n",
       "      <td>606500</td>\n",
       "    </tr>\n",
       "    <tr>\n",
       "      <th>13226</th>\n",
       "      <td>Possession</td>\n",
       "      <td>3</td>\n",
       "      <td>629340</td>\n",
       "    </tr>\n",
       "    <tr>\n",
       "      <th>13227</th>\n",
       "      <td>Disco Elysium</td>\n",
       "      <td>3</td>\n",
       "      <td>632470</td>\n",
       "    </tr>\n",
       "  </tbody>\n",
       "</table>\n",
       "<p>13228 rows × 3 columns</p>\n",
       "</div>"
      ],
      "text/plain": [
       "                                  Title  Players Estimate  Steam App ID\n",
       "0                       Team Fortress 2          50191347           440\n",
       "1      Counter-Strike: Global Offensive          46305966           730\n",
       "2         PLAYERUNKNOWN'S BATTLEGROUNDS          36604134        578080\n",
       "3                              Unturned          27381399        304930\n",
       "4                         Left 4 Dead 2          23143723           550\n",
       "...                                 ...               ...           ...\n",
       "13223        ¾Üø¾¥Ô_¤_Ó_? Falsemen 3                 4        643930\n",
       "13224                            ±±«_                 3        591020\n",
       "13225                          HellSign                 3        606500\n",
       "13226                        Possession                 3        629340\n",
       "13227                     Disco Elysium                 3        632470\n",
       "\n",
       "[13228 rows x 3 columns]"
      ]
     },
     "execution_count": 33,
     "metadata": {},
     "output_type": "execute_result"
    }
   ],
   "source": [
    "leak"
   ]
  },
  {
   "cell_type": "code",
   "execution_count": 34,
   "metadata": {},
   "outputs": [],
   "source": [
    "leak.to_csv(\"./clean_leak.csv\", index=False, encoding=\"utf-8\")"
   ]
  },
  {
   "cell_type": "code",
   "execution_count": null,
   "metadata": {},
   "outputs": [],
   "source": []
  }
 ],
 "metadata": {
  "kernelspec": {
   "display_name": "Python 3.8.13 ('steam')",
   "language": "python",
   "name": "python3"
  },
  "language_info": {
   "codemirror_mode": {
    "name": "ipython",
    "version": 3
   },
   "file_extension": ".py",
   "mimetype": "text/x-python",
   "name": "python",
   "nbconvert_exporter": "python",
   "pygments_lexer": "ipython3",
   "version": "3.8.13"
  },
  "orig_nbformat": 4,
  "vscode": {
   "interpreter": {
    "hash": "3904e9169d5f8c2953a1dcf1e7978cbeedad4be2a3441923f953ca8fe9057d10"
   }
  }
 },
 "nbformat": 4,
 "nbformat_minor": 2
}
