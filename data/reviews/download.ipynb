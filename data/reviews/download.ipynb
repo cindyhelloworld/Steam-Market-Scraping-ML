{
 "cells": [
  {
   "cell_type": "code",
   "execution_count": 1,
   "metadata": {},
   "outputs": [],
   "source": [
    "import requests\n",
    "import json\n",
    "import time\n",
    "import pandas as pd\n",
    "from datetime import datetime, timedelta"
   ]
  },
  {
   "cell_type": "code",
   "execution_count": 3,
   "metadata": {},
   "outputs": [],
   "source": [
    "def target_date_to_datetime(target_date, date_format=\"%Y-%m-%d\"):\n",
    "    target_datetime = datetime.strptime(target_date, date_format)\n",
    "    return target_datetime\n",
    "\n",
    "\n",
    "def datetime_to_timestamp(date_as_datetime):\n",
    "    date_as_timestamp = int(datetime.timestamp(date_as_datetime))\n",
    "    return date_as_timestamp\n",
    "\n",
    "\n",
    "def get_yesterday_datetime(date_as_datetime, days=1):\n",
    "    yesterday_datetime = date_as_datetime - timedelta(days)\n",
    "    return yesterday_datetime\n",
    "\n",
    "\n",
    "def get_steam_api_url(app_id):\n",
    "    return f\"https://store.steampowered.com/appreviews/{app_id}\"\n",
    "\n",
    "\n",
    "def get_request_params(target_timestamp):\n",
    "    # References:\n",
    "    # - https://partner.steamgames.com/doc/store/getreviews\n",
    "    # - browser dev tools on store pages, e.g. https://store.steampowered.com/app/570/#app_reviews_hash\n",
    "\n",
    "    if target_timestamp is None:\n",
    "        raise Exception(\"Empty target_timestamp!\")\n",
    "\n",
    "    params = {\n",
    "        \"json\": \"1\",\n",
    "        \"num_per_page\": \"0\",  # text content of reviews is not needed\n",
    "        # caveat: default seems to be \"english\", so reviews would be missing if unchanged!\n",
    "        \"language\": \"all\",\n",
    "        # caveat: default is \"steam\", so reviews would be missing if unchanged!\n",
    "        \"purchase_type\": \"all\",\n",
    "        # to un-filter review-bombs, e.g. https://store.steampowered.com/app/481510/\n",
    "        \"filter_offtopic_activity\": \"0\",\n",
    "        \"start_date\": \"1\",  # this is the minimal value which allows to filter by date\n",
    "        \"end_date\": str(target_timestamp),\n",
    "        \"date_range_type\": \"include\",  # this parameter is needed to filter by date\n",
    "    }\n",
    "\n",
    "    return params\n",
    "\n",
    "\n",
    "def download_review_stats(app_id, target_timestamp):\n",
    "    url = get_steam_api_url(app_id)\n",
    "    params = get_request_params(target_timestamp)\n",
    "\n",
    "    response = requests.get(url, params=params)\n",
    "\n",
    "    if response.ok:\n",
    "        result = response.json()\n",
    "    else:\n",
    "        result = None\n",
    "\n",
    "    return result\n"
   ]
  },
  {
   "cell_type": "code",
   "execution_count": 14,
   "metadata": {},
   "outputs": [],
   "source": [
    "app_id = 1182900"
   ]
  },
  {
   "cell_type": "code",
   "execution_count": 36,
   "metadata": {},
   "outputs": [],
   "source": [
    "rate_limits = {\n",
    "    \"max_num_queries\": 600,\n",
    "    \"cooldown\": (4 * 60) + 10,  # 4 minutes plus a cushion,\n",
    "}\n",
    "\n",
    "target_date = \"2022-10-16\"\n",
    "date_format = \"%Y-%m-%d\"\n",
    "\n",
    "target_datetime = target_date_to_datetime(target_date=target_date, date_format=date_format)\n",
    "target_timestamp = datetime_to_timestamp(target_datetime)\n",
    "\n",
    "res = download_review_stats(app_id=app_id, target_timestamp=target_timestamp)"
   ]
  },
  {
   "cell_type": "code",
   "execution_count": 37,
   "metadata": {},
   "outputs": [
    {
     "data": {
      "text/plain": [
       "{'total_reviews': 0,\n",
       " 'total_positive': 0,\n",
       " 'total_negative': 0,\n",
       " 'review_score': 0}"
      ]
     },
     "execution_count": 37,
     "metadata": {},
     "output_type": "execute_result"
    }
   ],
   "source": [
    "fields = ['total_reviews', 'total_positive', 'total_negative', 'review_score']\n",
    "query_summary = res[\"query_summary\"]\n",
    "review = dict()\n",
    "for key in fields:\n",
    "    review[key] = query_summary[key]\n",
    "\n",
    "review"
   ]
  },
  {
   "cell_type": "code",
   "execution_count": 33,
   "metadata": {},
   "outputs": [
    {
     "data": {
      "text/plain": [
       "'2022-10-21'"
      ]
     },
     "execution_count": 33,
     "metadata": {},
     "output_type": "execute_result"
    }
   ],
   "source": [
    "target_datetime.strftime(date_format)"
   ]
  },
  {
   "cell_type": "markdown",
   "metadata": {},
   "source": [
    "# Test"
   ]
  },
  {
   "cell_type": "code",
   "execution_count": 4,
   "metadata": {},
   "outputs": [],
   "source": [
    "app_id = 1182900\n",
    "target_date = \"2022-10-20\"\n",
    "date_format = \"%Y-%m-%d\"\n",
    "\n",
    "\n",
    "def get_info(res):\n",
    "    fields = ['total_reviews', 'total_positive',\n",
    "              'total_negative', 'review_score']\n",
    "    query_summary = res[\"query_summary\"]\n",
    "    info = dict()\n",
    "    for key in fields:\n",
    "        info[key] = query_summary[key]\n",
    "    return info\n",
    "\n",
    "\n",
    "def test(app_id, target_date, date_format):\n",
    "    target_datetime = target_date_to_datetime(target_date, date_format)\n",
    "    target_timestamp = datetime_to_timestamp(target_datetime)\n",
    "    data = dict()\n",
    "    res = download_review_stats(app_id, target_timestamp)\n",
    "    if not res:\n",
    "        print(f\"Cannot get {app_id} !!!\")\n",
    "        return\n",
    "    info = get_info(res)\n",
    "\n",
    "    while (info.get('total_reviews')):\n",
    "        data[target_datetime.strftime(date_format)] = info\n",
    "        target_datetime = get_yesterday_datetime(target_datetime)\n",
    "        target_timestamp = datetime_to_timestamp(target_datetime)\n",
    "        res = download_review_stats(app_id, target_timestamp)\n",
    "        info = get_info(res)\n",
    "\n",
    "    return data\n"
   ]
  },
  {
   "cell_type": "code",
   "execution_count": 5,
   "metadata": {},
   "outputs": [],
   "source": [
    "res = test(app_id, target_date, date_format)"
   ]
  },
  {
   "cell_type": "code",
   "execution_count": 6,
   "metadata": {},
   "outputs": [
    {
     "data": {
      "text/plain": [
       "{'2022-10-20': {'total_reviews': 763,\n",
       "  'total_positive': 659,\n",
       "  'total_negative': 104,\n",
       "  'review_score': 8},\n",
       " '2022-10-19': {'total_reviews': 452,\n",
       "  'total_positive': 392,\n",
       "  'total_negative': 60,\n",
       "  'review_score': 8},\n",
       " '2022-10-18': {'total_reviews': 75,\n",
       "  'total_positive': 59,\n",
       "  'total_negative': 16,\n",
       "  'review_score': 6}}"
      ]
     },
     "execution_count": 6,
     "metadata": {},
     "output_type": "execute_result"
    }
   ],
   "source": [
    "res"
   ]
  },
  {
   "cell_type": "code",
   "execution_count": 48,
   "metadata": {},
   "outputs": [],
   "source": [
    "df = pd.DataFrame.from_dict(res, orient='index')\n",
    "df.index.name = \"Date\""
   ]
  },
  {
   "cell_type": "code",
   "execution_count": 49,
   "metadata": {},
   "outputs": [],
   "source": [
    "df.to_csv(\"test.csv\")"
   ]
  },
  {
   "cell_type": "code",
   "execution_count": 50,
   "metadata": {},
   "outputs": [
    {
     "data": {
      "text/html": [
       "<div>\n",
       "<style scoped>\n",
       "    .dataframe tbody tr th:only-of-type {\n",
       "        vertical-align: middle;\n",
       "    }\n",
       "\n",
       "    .dataframe tbody tr th {\n",
       "        vertical-align: top;\n",
       "    }\n",
       "\n",
       "    .dataframe thead th {\n",
       "        text-align: right;\n",
       "    }\n",
       "</style>\n",
       "<table border=\"1\" class=\"dataframe\">\n",
       "  <thead>\n",
       "    <tr style=\"text-align: right;\">\n",
       "      <th></th>\n",
       "      <th>total_reviews</th>\n",
       "      <th>total_positive</th>\n",
       "      <th>total_negative</th>\n",
       "      <th>review_score</th>\n",
       "    </tr>\n",
       "    <tr>\n",
       "      <th>Date</th>\n",
       "      <th></th>\n",
       "      <th></th>\n",
       "      <th></th>\n",
       "      <th></th>\n",
       "    </tr>\n",
       "  </thead>\n",
       "  <tbody>\n",
       "    <tr>\n",
       "      <th>2022-10-20</th>\n",
       "      <td>761</td>\n",
       "      <td>652</td>\n",
       "      <td>109</td>\n",
       "      <td>8</td>\n",
       "    </tr>\n",
       "    <tr>\n",
       "      <th>2022-10-19</th>\n",
       "      <td>452</td>\n",
       "      <td>392</td>\n",
       "      <td>60</td>\n",
       "      <td>8</td>\n",
       "    </tr>\n",
       "    <tr>\n",
       "      <th>2022-10-18</th>\n",
       "      <td>75</td>\n",
       "      <td>58</td>\n",
       "      <td>17</td>\n",
       "      <td>6</td>\n",
       "    </tr>\n",
       "  </tbody>\n",
       "</table>\n",
       "</div>"
      ],
      "text/plain": [
       "            total_reviews  total_positive  total_negative  review_score\n",
       "Date                                                                   \n",
       "2022-10-20            761             652             109             8\n",
       "2022-10-19            452             392              60             8\n",
       "2022-10-18             75              58              17             6"
      ]
     },
     "execution_count": 50,
     "metadata": {},
     "output_type": "execute_result"
    }
   ],
   "source": [
    "df"
   ]
  },
  {
   "cell_type": "code",
   "execution_count": 1,
   "metadata": {},
   "outputs": [],
   "source": [
    "import steamreviews"
   ]
  },
  {
   "cell_type": "code",
   "execution_count": 6,
   "metadata": {},
   "outputs": [
    {
     "name": "stdout",
     "output_type": "stream",
     "text": [
      "[appID = 374320] expected #reviews = 336685\n",
      "Number of queries 150 reached. Cooldown: 310 seconds\n",
      "Number of queries 150 reached. Cooldown: 310 seconds\n",
      "Number of queries 150 reached. Cooldown: 310 seconds\n",
      "Number of queries 150 reached. Cooldown: 310 seconds\n",
      "Number of queries 150 reached. Cooldown: 310 seconds\n"
     ]
    }
   ],
   "source": [
    "review_dict, query_count = steamreviews.download_reviews_for_app_id(374320)"
   ]
  },
  {
   "cell_type": "code",
   "execution_count": 5,
   "metadata": {},
   "outputs": [
    {
     "data": {
      "text/plain": [
       "{'reviews': {}, 'query_summary': {'total_reviews': -1}, 'cursors': {}}"
      ]
     },
     "execution_count": 5,
     "metadata": {},
     "output_type": "execute_result"
    }
   ],
   "source": [
    "review_dict"
   ]
  },
  {
   "cell_type": "code",
   "execution_count": null,
   "metadata": {},
   "outputs": [],
   "source": []
  }
 ],
 "metadata": {
  "kernelspec": {
   "display_name": "Python 3.8.13 ('steam')",
   "language": "python",
   "name": "python3"
  },
  "language_info": {
   "codemirror_mode": {
    "name": "ipython",
    "version": 3
   },
   "file_extension": ".py",
   "mimetype": "text/x-python",
   "name": "python",
   "nbconvert_exporter": "python",
   "pygments_lexer": "ipython3",
   "version": "3.8.13"
  },
  "orig_nbformat": 4,
  "vscode": {
   "interpreter": {
    "hash": "458dc80a6ad14cef196de2775b7390cc1d8564fbf55b15b1a029da866268c4a0"
   }
  }
 },
 "nbformat": 4,
 "nbformat_minor": 2
}
