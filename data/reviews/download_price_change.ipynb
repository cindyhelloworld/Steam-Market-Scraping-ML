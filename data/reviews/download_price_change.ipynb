{
 "cells": [
  {
   "cell_type": "code",
   "execution_count": 23,
   "metadata": {},
   "outputs": [],
   "source": [
    "import os\n",
    "import requests\n",
    "import time\n",
    "import pandas as pd\n",
    "from datetime import datetime, timedelta\n",
    "\n",
    "def target_date_to_datetime(target_date, date_format=\"%Y-%m-%d\"):\n",
    "    target_datetime = datetime.strptime(target_date, date_format)\n",
    "    return target_datetime\n",
    "\n",
    "def datetime_to_timestamp(date_as_datetime):\n",
    "    date_as_timestamp = int(datetime.timestamp(date_as_datetime))\n",
    "    return date_as_timestamp\n",
    "\n",
    "def get_steam_api_url(app_id):\n",
    "    return f\"https://store.steampowered.com/appreviews/{app_id}\"\n",
    "\n",
    "def get_request_params(target_timestamp):\n",
    "    # References:\n",
    "    # - https://partner.steamgames.com/doc/store/getreviews\n",
    "    # - browser dev tools on store pages, e.g. https://store.steampowered.com/app/570/#app_reviews_hash\n",
    "\n",
    "    if target_timestamp is None:\n",
    "        raise Exception(\"Empty target_timestamp!\")\n",
    "\n",
    "    params = {\n",
    "        \"json\": \"1\",\n",
    "        \"num_per_page\": \"0\",  # text content of reviews is not needed\n",
    "        # caveat: default seems to be \"english\", so reviews would be missing if unchanged!\n",
    "        \"language\": \"all\",\n",
    "        # caveat: default is \"steam\", so reviews would be missing if unchanged!\n",
    "        \"purchase_type\": \"all\",\n",
    "        # to un-filter review-bombs, e.g. https://store.steampowered.com/app/481510/\n",
    "        \"filter_offtopic_activity\": \"0\",\n",
    "        \"start_date\": \"1\",  # this is the minimal value which allows to filter by date\n",
    "        \"end_date\": str(target_timestamp),\n",
    "        \"date_range_type\": \"include\",  # this parameter is needed to filter by date\n",
    "    }\n",
    "\n",
    "    return params\n",
    "\n",
    "def download_review_stats(app_id, target_timestamp):\n",
    "    url = get_steam_api_url(app_id)\n",
    "    params = get_request_params(target_timestamp)\n",
    "    response = requests.get(url, params=params)\n",
    "\n",
    "    if response.ok:\n",
    "        result = response.json()\n",
    "    else:\n",
    "        result = None\n",
    "\n",
    "    return result\n",
    "\n",
    "def get_info(res):\n",
    "    fields = ['total_reviews', 'total_positive',\n",
    "              'total_negative', 'review_score']\n",
    "    query_summary = res[\"query_summary\"]\n",
    "    info = dict()\n",
    "    for key in fields:\n",
    "        info[key] = query_summary[key]\n",
    "\n",
    "    return info\n"
   ]
  },
  {
   "cell_type": "code",
   "execution_count": 5,
   "metadata": {},
   "outputs": [],
   "source": [
    "input_path = \"../../analysis/priceChange/data/\"\n",
    "output_path = \"./data/price_change_review/\"\n",
    "os.makedirs(output_path, exist_ok=True)"
   ]
  },
  {
   "cell_type": "code",
   "execution_count": 7,
   "metadata": {},
   "outputs": [],
   "source": [
    "input_list = os.listdir(input_path)"
   ]
  },
  {
   "cell_type": "code",
   "execution_count": 26,
   "metadata": {},
   "outputs": [],
   "source": [
    "def download_review_to_df(file_name):\n",
    "    df = pd.read_csv(input_path+file_name)\n",
    "    app_id = file_name.split(\".\")[0]\n",
    "    data = dict()\n",
    "    for target_date in df[\"date\"]:\n",
    "        target_datetime = target_date_to_datetime(target_date)\n",
    "        target_timestamp = datetime_to_timestamp(target_datetime)\n",
    "        res = download_review_stats(app_id, target_timestamp)\n",
    "        if not res:\n",
    "            print(f\"Invalid appid {app_id} OR Rate Limit !!!\")\n",
    "            print(data)\n",
    "            return\n",
    "        info = get_info(res)\n",
    "        data[target_date] = info\n",
    "        # print(target_date, info)\n",
    "        time.sleep(1)\n",
    "    review_df = pd.DataFrame.from_dict(data, orient='index').reset_index(drop=True)\n",
    "    return pd.concat([df, review_df], axis=1)"
   ]
  },
  {
   "cell_type": "code",
   "execution_count": null,
   "metadata": {},
   "outputs": [],
   "source": []
  }
 ],
 "metadata": {
  "kernelspec": {
   "display_name": "Python 3.8.13 ('steam')",
   "language": "python",
   "name": "python3"
  },
  "language_info": {
   "codemirror_mode": {
    "name": "ipython",
    "version": 3
   },
   "file_extension": ".py",
   "mimetype": "text/x-python",
   "name": "python",
   "nbconvert_exporter": "python",
   "pygments_lexer": "ipython3",
   "version": "3.8.13"
  },
  "orig_nbformat": 4,
  "vscode": {
   "interpreter": {
    "hash": "458dc80a6ad14cef196de2775b7390cc1d8564fbf55b15b1a029da866268c4a0"
   }
  }
 },
 "nbformat": 4,
 "nbformat_minor": 2
}
