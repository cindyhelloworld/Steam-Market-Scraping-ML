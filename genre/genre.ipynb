{
 "cells": [
  {
   "cell_type": "code",
   "execution_count": 1,
   "metadata": {},
   "outputs": [],
   "source": [
    "import requests\n",
    "from bs4 import BeautifulSoup\n",
    "import pandas as pd\n",
    "import time"
   ]
  },
  {
   "cell_type": "markdown",
   "metadata": {},
   "source": [
    "# Get all tags for game in joint.csv"
   ]
  },
  {
   "cell_type": "code",
   "execution_count": 63,
   "metadata": {},
   "outputs": [],
   "source": [
    "api_key = \"6sRnydxcHkpMyGjFzXFZNZ1e6pE\"\n",
    "cat ={\"id\":[],\"name\":[]}\n",
    "gen ={\"id\":[],\"name\":[]}\n",
    "error_lst = []\n",
    "result = []"
   ]
  },
  {
   "cell_type": "code",
   "execution_count": null,
   "metadata": {},
   "outputs": [],
   "source": [
    "with open(\"joint_ids.csv\") as f:\n",
    "    ids = [id.strip() for id in f.readlines()[1:]]\n",
    "\n",
    "\n",
    "for app_id in ids:\n",
    "    dic = {}\n",
    "    # page = requests.get(f\"https://api.steamapis.com/market/app/{app_id}?api_key={api_key}\").json()\n",
    "    page = requests.get(f\"http://store.steampowered.com/api/appdetails?appids={app_id}\").json()\n",
    "\n",
    "    while page == None:\n",
    "        print(\"Sleeping....\")\n",
    "        time.sleep(60)\n",
    "        page = requests.get(f\"http://store.steampowered.com/api/appdetails?appids={app_id}\").json()\n",
    "    \n",
    "    if page[app_id][\"success\"] == False:\n",
    "        error_lst.append(app_id)\n",
    "        continue\n",
    "    \n",
    "    page = page[app_id][\"data\"]\n",
    "\n",
    "    keys = list(page.keys())\n",
    "    if \"genres\" in keys and \"categories\" in keys:\n",
    "\n",
    "        #get all categories of the app\n",
    "        categories = page[\"categories\"]\n",
    "        cat_lst = []\n",
    "        for category in categories:\n",
    "            cat_id = category[\"id\"] \n",
    "            cat_name = category[\"description\"] \n",
    "\n",
    "            #update category_index.csv\n",
    "            if cat_id not in cat[\"id\"]:\n",
    "                cat[\"id\"].append(cat_id)\n",
    "                cat[\"name\"].append(cat_name)\n",
    "            \n",
    "            cat_lst.append(str(cat_id))\n",
    "\n",
    "\n",
    "        #get all genres of the app\n",
    "        genres = page[\"genres\"]\n",
    "        gen_lst = []\n",
    "        for genre in genres:\n",
    "            gen_id = genre[\"id\"] \n",
    "            gen_name = genre[\"description\"] \n",
    "\n",
    "            #upload genre_index.csv\n",
    "            if gen_id not in gen[\"id\"]:\n",
    "                gen[\"id\"].append(gen_id)\n",
    "                gen[\"name\"].append(gen_name)\n",
    "            \n",
    "            gen_lst.append(str(gen_id))\n",
    "\n",
    "\n",
    "        dic[\"id\"] = app_id\n",
    "        dic[\"category\"] = \",\".join(cat_lst)\n",
    "        dic[\"genre\"] = \",\".join(gen_lst)\n",
    "        \n",
    "        result.append(dic)\n",
    "\n",
    "\n",
    "    elif \"genres\" in keys:\n",
    "        genres = page[\"genres\"]\n",
    "        gen_lst = []\n",
    "        for genre in genres:\n",
    "            gen_id = genre[\"id\"] \n",
    "            gen_name = genre[\"description\"] \n",
    "\n",
    "            #upload genre_index.csv\n",
    "            if gen_id not in gen[\"id\"]:\n",
    "                gen[\"id\"].append(gen_id)\n",
    "                gen[\"name\"].append(gen_name)\n",
    "            \n",
    "            gen_lst.append(str(gen_id))\n",
    "    \n",
    "        dic[\"id\"] = app_id\n",
    "        dic[\"category\"] = \"\"\n",
    "        dic[\"genre\"] = \",\".join(gen_lst)\n",
    "        \n",
    "        result.append(dic)\n",
    "\n",
    "    else:\n",
    "        error_lst.append(app_id)\n",
    "    \n",
    "    print(len(result))\n"
   ]
  },
  {
   "cell_type": "code",
   "execution_count": 69,
   "metadata": {},
   "outputs": [
    {
     "name": "stdout",
     "output_type": "stream",
     "text": [
      "8\n",
      "2111\n",
      "['241930', '71250', '535230', '200940', '202530', '612070', '679260', '667720']\n"
     ]
    }
   ],
   "source": [
    "print(\"error lst length:\", len(error_lst))\n",
    "print(\"result list length:\",len(result))\n",
    "print(\"show error list:\",error_lst)"
   ]
  },
  {
   "cell_type": "code",
   "execution_count": 66,
   "metadata": {},
   "outputs": [],
   "source": [
    "final = pd.DataFrame(result)\n",
    "final.to_csv(\"joint_category_genre.csv\", index = False)"
   ]
  },
  {
   "cell_type": "code",
   "execution_count": 67,
   "metadata": {},
   "outputs": [],
   "source": [
    "cat_df = pd.DataFrame.from_dict(cat)\n",
    "cat_df.to_csv(\"category_index.csv\",index=False)"
   ]
  },
  {
   "cell_type": "code",
   "execution_count": 68,
   "metadata": {},
   "outputs": [],
   "source": [
    "gen_df = pd.DataFrame.from_dict(gen)\n",
    "gen_df.to_csv(\"genre_index.csv\",index=False)"
   ]
  }
 ],
 "metadata": {
  "kernelspec": {
   "display_name": "Python 3.8.13 ('steam')",
   "language": "python",
   "name": "python3"
  },
  "language_info": {
   "codemirror_mode": {
    "name": "ipython",
    "version": 3
   },
   "file_extension": ".py",
   "mimetype": "text/x-python",
   "name": "python",
   "nbconvert_exporter": "python",
   "pygments_lexer": "ipython3",
   "version": "3.8.13"
  },
  "orig_nbformat": 4,
  "vscode": {
   "interpreter": {
    "hash": "3904e9169d5f8c2953a1dcf1e7978cbeedad4be2a3441923f953ca8fe9057d10"
   }
  }
 },
 "nbformat": 4,
 "nbformat_minor": 2
}
