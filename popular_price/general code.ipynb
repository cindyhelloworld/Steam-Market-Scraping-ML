{
 "cells": [
  {
   "cell_type": "code",
   "execution_count": 8,
   "metadata": {},
   "outputs": [],
   "source": [
    "import requests\n",
    "from bs4 import BeautifulSoup\n",
    "import pandas as pd\n",
    "import time"
   ]
  },
  {
   "cell_type": "code",
   "execution_count": 19,
   "metadata": {},
   "outputs": [],
   "source": [
    "headers = {\n",
    "    \"User-Agent\":\"Mozilla/5.0 (X11; Linux x86_64; rv:78.0) Gecko/20100101 Firefox/78.0\",\n",
    "}\n",
    "\n",
    "url = \"https://steampricehistory.com/popular?page=\"\n",
    "lst = []\n",
    "\n",
    "for page in range(1,93): #92 for the popularity > 500\n",
    "    result = requests.get(url+str(page), headers=headers)\n",
    "    soup = BeautifulSoup(result.content)\n",
    "    table = soup.find(\"table\",{\"class\":\"app-table\"})\n",
    "    trs = table.find_all(\"tr\")\n",
    "    for tr in trs[1:]:\n",
    "        dic = {}\n",
    "        tds = tr.find_all(\"td\")\n",
    "        dic[\"title\"] = tds[1].text.strip()\n",
    "        dic[\"url\"] = tr.find(\"a\")[\"href\"]\n",
    "        dic[\"price\"] = tds[2].text[1:]\n",
    "        dic[\"discount\"] = tds[3].text\n",
    "        dic[\"popularity\"] = tds[4].text\n",
    "        lst.append(dic)\n",
    "    time.sleep(1)"
   ]
  },
  {
   "cell_type": "code",
   "execution_count": 25,
   "metadata": {},
   "outputs": [
    {
     "data": {
      "text/html": [
       "<div>\n",
       "<style scoped>\n",
       "    .dataframe tbody tr th:only-of-type {\n",
       "        vertical-align: middle;\n",
       "    }\n",
       "\n",
       "    .dataframe tbody tr th {\n",
       "        vertical-align: top;\n",
       "    }\n",
       "\n",
       "    .dataframe thead th {\n",
       "        text-align: right;\n",
       "    }\n",
       "</style>\n",
       "<table border=\"1\" class=\"dataframe\">\n",
       "  <thead>\n",
       "    <tr style=\"text-align: right;\">\n",
       "      <th></th>\n",
       "      <th>title</th>\n",
       "      <th>url</th>\n",
       "      <th>price</th>\n",
       "      <th>discount</th>\n",
       "      <th>popularity</th>\n",
       "    </tr>\n",
       "  </thead>\n",
       "  <tbody>\n",
       "    <tr>\n",
       "      <th>0</th>\n",
       "      <td>Counter-Strike: Global Offensive</td>\n",
       "      <td>https://steampricehistory.com/app/730</td>\n",
       "      <td>0.00</td>\n",
       "      <td>0</td>\n",
       "      <td>2,999,135</td>\n",
       "    </tr>\n",
       "    <tr>\n",
       "      <th>1</th>\n",
       "      <td>PUBG: BATTLEGROUNDS</td>\n",
       "      <td>https://steampricehistory.com/app/578080</td>\n",
       "      <td>29.99</td>\n",
       "      <td>0</td>\n",
       "      <td>1,382,744</td>\n",
       "    </tr>\n",
       "    <tr>\n",
       "      <th>2</th>\n",
       "      <td>Rainbow Six Siege - Pro League Mute Set</td>\n",
       "      <td>https://steampricehistory.com/app/488824</td>\n",
       "      <td>19.99</td>\n",
       "      <td>0</td>\n",
       "      <td>710,559</td>\n",
       "    </tr>\n",
       "    <tr>\n",
       "      <th>3</th>\n",
       "      <td>Rainbow Six Siege - Pro League Bandit Set</td>\n",
       "      <td>https://steampricehistory.com/app/488823</td>\n",
       "      <td>19.99</td>\n",
       "      <td>0</td>\n",
       "      <td>710,559</td>\n",
       "    </tr>\n",
       "    <tr>\n",
       "      <th>4</th>\n",
       "      <td>Rainbow Six Siege - Pro League Thermite Set</td>\n",
       "      <td>https://steampricehistory.com/app/488822</td>\n",
       "      <td>19.99</td>\n",
       "      <td>0</td>\n",
       "      <td>710,559</td>\n",
       "    </tr>\n",
       "  </tbody>\n",
       "</table>\n",
       "</div>"
      ],
      "text/plain": [
       "                                         title  \\\n",
       "0             Counter-Strike: Global Offensive   \n",
       "1                          PUBG: BATTLEGROUNDS   \n",
       "2      Rainbow Six Siege - Pro League Mute Set   \n",
       "3    Rainbow Six Siege - Pro League Bandit Set   \n",
       "4  Rainbow Six Siege - Pro League Thermite Set   \n",
       "\n",
       "                                        url  price discount popularity  \n",
       "0     https://steampricehistory.com/app/730   0.00        0  2,999,135  \n",
       "1  https://steampricehistory.com/app/578080  29.99        0  1,382,744  \n",
       "2  https://steampricehistory.com/app/488824  19.99        0    710,559  \n",
       "3  https://steampricehistory.com/app/488823  19.99        0    710,559  \n",
       "4  https://steampricehistory.com/app/488822  19.99        0    710,559  "
      ]
     },
     "execution_count": 25,
     "metadata": {},
     "output_type": "execute_result"
    }
   ],
   "source": [
    "general = pd.DataFrame(lst)"
   ]
  },
  {
   "cell_type": "code",
   "execution_count": 51,
   "metadata": {},
   "outputs": [],
   "source": [
    "def set_id(row):\n",
    "    index = row.find(\"app/\")\n",
    "    return row[index+4:]\n",
    "general[\"id\"] = general[\"url\"].apply(set_id)"
   ]
  },
  {
   "cell_type": "code",
   "execution_count": 59,
   "metadata": {},
   "outputs": [],
   "source": [
    "general = general.set_index(\"id\")\n",
    "general.to_csv(path+\"general.csv\")"
   ]
  },
  {
   "cell_type": "code",
   "execution_count": 65,
   "metadata": {},
   "outputs": [],
   "source": [
    "urls = general[\"url\"]\n",
    "path = \"/Users/xxt/Desktop/steam data/\"\n",
    "for url in urls:\n",
    "    discounts = []\n",
    "    sales = []\n",
    "    result = requests.get(url,headers = headers)\n",
    "    soup = BeautifulSoup(result.content)\n",
    "    tables = soup.find_all(\"section\",{\"class\":\"breakdown\"})\n",
    "\n",
    "    #only discounts and sales\n",
    "    if len(tables) == 2:\n",
    "        #table1: discounts\n",
    "        table_discount = tables[0]\n",
    "        trs = table_discount.find_all(\"tr\")\n",
    "        for tr in trs[1:]:\n",
    "            dic = {}\n",
    "            tds = tr.find_all(\"td\")\n",
    "            dic[\"date\"] = tds[0].text\n",
    "            dic[\"price\"] = tds[1].text\n",
    "            dic[\"gain\"] = tds[2].text\n",
    "            dic[\"discount\"] = tds[3].text\n",
    "            discounts.append(dic)\n",
    "\n",
    "        #table2: sales\n",
    "        table_sales = tables[1]\n",
    "        trs = table_sales.find_all(\"tr\")\n",
    "        for tr in trs[1:]:\n",
    "            dic = {}\n",
    "            tds = tr.find_all(\"td\")\n",
    "            dic[\"sale\"] = tds[0].text\n",
    "            dic[\"date start\"] = tds[1].text\n",
    "            dic[\"price\"] = tds[2].text\n",
    "            dic[\"discount\"] = tds[3].text\n",
    "            sales.append(dic)\n",
    "        \n",
    "        d_file = pd.DataFrame(discounts)\n",
    "        s_file = pd.DataFrame(sales)\n",
    "\n",
    "        name = general.loc[general['url'] == url].index.item()\n",
    "        d_file.to_csv(path+name+\"_discounts.csv\")\n",
    "        s_file.to_csv(path+name+\"_sales.csv\")\n",
    "        time.sleep(1)\n"
   ]
  }
 ],
 "metadata": {
  "kernelspec": {
   "display_name": "Python 3.8.13 ('steam')",
   "language": "python",
   "name": "python3"
  },
  "language_info": {
   "codemirror_mode": {
    "name": "ipython",
    "version": 3
   },
   "file_extension": ".py",
   "mimetype": "text/x-python",
   "name": "python",
   "nbconvert_exporter": "python",
   "pygments_lexer": "ipython3",
   "version": "3.8.13"
  },
  "orig_nbformat": 4,
  "vscode": {
   "interpreter": {
    "hash": "3904e9169d5f8c2953a1dcf1e7978cbeedad4be2a3441923f953ca8fe9057d10"
   }
  }
 },
 "nbformat": 4,
 "nbformat_minor": 2
}
